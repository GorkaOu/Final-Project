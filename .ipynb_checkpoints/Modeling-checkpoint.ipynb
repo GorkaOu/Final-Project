{
 "cells": [
  {
   "cell_type": "code",
   "execution_count": 2,
   "id": "6b00ed98",
   "metadata": {},
   "outputs": [],
   "source": [
    "# BASE\n",
    "# ------------------------------------------------------\n",
    "import pandas as pd  \n",
    "import numpy as np"
   ]
  },
  {
   "cell_type": "code",
   "execution_count": 13,
   "id": "9c61afcf",
   "metadata": {},
   "outputs": [],
   "source": [
    "model1 = pd.read_csv('model1.csv')\n",
    "sales = pd.read_csv('sales.csv')"
   ]
  },
  {
   "cell_type": "code",
   "execution_count": 14,
   "id": "05e99ba1",
   "metadata": {},
   "outputs": [],
   "source": [
    "#Fit a logistic regression model on the training data.\n",
    "from sklearn import linear_model\n",
    "from sklearn.metrics import mean_squared_error\n",
    "lm = linear_model.LinearRegression()"
   ]
  },
  {
   "cell_type": "code",
   "execution_count": 29,
   "id": "7eecd454",
   "metadata": {},
   "outputs": [],
   "source": [
    "#Random Forest\n",
    "from sklearn.ensemble import RandomForestRegressor\n",
    "clf = RandomForestRegressor(n_estimators=120, # number of trees\n",
    "                             max_depth=10, # maximum depth of the trees\n",
    "                             max_samples=0.2, # fraction of X-train to use in each tree\n",
    "                             random_state = 42)"
   ]
  },
  {
   "cell_type": "code",
   "execution_count": 30,
   "id": "0050c63e",
   "metadata": {},
   "outputs": [],
   "source": [
    "#Trying KNN to see if the score improves\n",
    "from sklearn.neighbors import KNeighborsRegressor\n",
    "knn = KNeighborsRegressor(n_neighbors=10)"
   ]
  },
  {
   "cell_type": "code",
   "execution_count": null,
   "id": "cf42ab13",
   "metadata": {},
   "outputs": [],
   "source": []
  },
  {
   "cell_type": "code",
   "execution_count": null,
   "id": "20a0945c",
   "metadata": {},
   "outputs": [],
   "source": []
  },
  {
   "cell_type": "code",
   "execution_count": null,
   "id": "a8c13fa9",
   "metadata": {},
   "outputs": [],
   "source": []
  },
  {
   "cell_type": "code",
   "execution_count": 27,
   "id": "9855a005",
   "metadata": {},
   "outputs": [],
   "source": [
    "def model_eval(model,X,y):\n",
    "    # Fitting\n",
    "    model.fit(X, y)\n",
    "    # Calculate train and test scores\n",
    "    model_score = model.score(X, y)\n",
    "\n",
    "    # Calculate RMSE for train and test sets\n",
    "    model_pred = model.predict(X)\n",
    "    model_rmse = np.sqrt(mean_squared_error(y, model_pred))\n",
    "\n",
    "    # Print scores and RMSEs\n",
    "    print('Model Score:', model_score)\n",
    "    print('Model RMSE:', model_rmse)\n",
    "    print(np.round(model_pred[:10],decimals = 3))\n",
    "    print(y[:10])\n",
    "    return model, "
   ]
  },
  {
   "cell_type": "code",
   "execution_count": 28,
   "id": "2849b07e",
   "metadata": {},
   "outputs": [
    {
     "name": "stdout",
     "output_type": "stream",
     "text": [
      "Model Score: 0.8154472485935895\n",
      "Model RMSE: 256.39226731426646\n",
      "[[  49.394]\n",
      " [  92.228]\n",
      " [1247.432]\n",
      " [  80.621]\n",
      " [ 450.302]\n",
      " [ 315.332]\n",
      " [  18.117]\n",
      " [  77.039]\n",
      " [ 298.861]\n",
      " [-211.369]]\n",
      "      sales\n",
      "0     2.000\n",
      "1    15.000\n",
      "2  2275.885\n",
      "3     2.000\n",
      "4   169.000\n",
      "5   200.398\n",
      "6     8.000\n",
      "7     0.000\n",
      "8   318.311\n",
      "9     0.000\n"
     ]
    }
   ],
   "source": [
    "model_lm = model_eval(lm,model1,sales)"
   ]
  },
  {
   "cell_type": "code",
   "execution_count": 31,
   "id": "801f7e92",
   "metadata": {},
   "outputs": [
    {
     "name": "stderr",
     "output_type": "stream",
     "text": [
      "C:\\Users\\gorka\\AppData\\Local\\Temp\\ipykernel_14944\\1605406186.py:3: DataConversionWarning: A column-vector y was passed when a 1d array was expected. Please change the shape of y to (n_samples,), for example using ravel().\n",
      "  model.fit(X, y)\n"
     ]
    },
    {
     "name": "stdout",
     "output_type": "stream",
     "text": [
      "Model Score: 0.9670259654508668\n",
      "Model RMSE: 108.37539792292931\n",
      "[  98.607   23.189 2075.624   23.189  182.254  284.869   23.189   23.189\n",
      "  288.441   23.189]\n",
      "      sales\n",
      "0     2.000\n",
      "1    15.000\n",
      "2  2275.885\n",
      "3     2.000\n",
      "4   169.000\n",
      "5   200.398\n",
      "6     8.000\n",
      "7     0.000\n",
      "8   318.311\n",
      "9     0.000\n"
     ]
    }
   ],
   "source": [
    "model_rf = model_eval(clf,model1,sales)"
   ]
  },
  {
   "cell_type": "code",
   "execution_count": 32,
   "id": "a5b202d7",
   "metadata": {},
   "outputs": [
    {
     "name": "stdout",
     "output_type": "stream",
     "text": [
      "Model Score: 0.28389447618798835\n",
      "Model RMSE: 505.0486012412837\n",
      "[[ 63.49 ]\n",
      " [ 75.316]\n",
      " [339.911]\n",
      " [ 54.317]\n",
      " [111.711]\n",
      " [ 44.167]\n",
      " [ 91.383]\n",
      " [ 35.225]\n",
      " [ 72.407]\n",
      " [  0.   ]]\n",
      "      sales\n",
      "0     2.000\n",
      "1    15.000\n",
      "2  2275.885\n",
      "3     2.000\n",
      "4   169.000\n",
      "5   200.398\n",
      "6     8.000\n",
      "7     0.000\n",
      "8   318.311\n",
      "9     0.000\n"
     ]
    }
   ],
   "source": [
    "model_knn = model_eval(knn,model1,sales)"
   ]
  },
  {
   "cell_type": "code",
   "execution_count": null,
   "id": "7e5eb4bc",
   "metadata": {},
   "outputs": [],
   "source": [
    "stores = model_train.store_nbr.unique()"
   ]
  },
  {
   "cell_type": "code",
   "execution_count": null,
   "id": "3b2a7df0",
   "metadata": {},
   "outputs": [],
   "source": [
    "stores"
   ]
  },
  {
   "cell_type": "code",
   "execution_count": null,
   "id": "492a5d8c",
   "metadata": {},
   "outputs": [],
   "source": [
    "model_dict = {}\n",
    "for s in stores:\n",
    "    trainframe = model_train[model_train[\"store_nbr\"]== s].copy()\n",
    "    model = modelbuilder(trainframe)\n",
    "    model_dict[s] = model"
   ]
  }
 ],
 "metadata": {
  "kernelspec": {
   "display_name": "Python 3 (ipykernel)",
   "language": "python",
   "name": "python3"
  },
  "language_info": {
   "codemirror_mode": {
    "name": "ipython",
    "version": 3
   },
   "file_extension": ".py",
   "mimetype": "text/x-python",
   "name": "python",
   "nbconvert_exporter": "python",
   "pygments_lexer": "ipython3",
   "version": "3.9.13"
  }
 },
 "nbformat": 4,
 "nbformat_minor": 5
}
