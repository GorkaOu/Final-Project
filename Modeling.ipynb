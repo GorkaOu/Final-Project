{
 "cells": [
  {
   "cell_type": "code",
   "execution_count": 1,
   "id": "6b00ed98",
   "metadata": {},
   "outputs": [],
   "source": [
    "# BASE\n",
    "# ------------------------------------------------------\n",
    "import pandas as pd  \n",
    "import numpy as np"
   ]
  },
  {
   "cell_type": "code",
   "execution_count": null,
   "id": "9c61afcf",
   "metadata": {},
   "outputs": [],
   "source": [
    "model_train = pd.read_csv('holidays_events.csv')\n",
    "oil = pd.read_csv('oil.csv')"
   ]
  },
  {
   "cell_type": "code",
   "execution_count": null,
   "id": "7e5eb4bc",
   "metadata": {},
   "outputs": [],
   "source": [
    "stores = model_train.store_nbr.unique()"
   ]
  },
  {
   "cell_type": "code",
   "execution_count": null,
   "id": "3b2a7df0",
   "metadata": {},
   "outputs": [],
   "source": [
    "stores"
   ]
  },
  {
   "cell_type": "code",
   "execution_count": null,
   "id": "492a5d8c",
   "metadata": {},
   "outputs": [],
   "source": [
    "model_dict = {}\n",
    "for s in stores:\n",
    "    trainframe = model_train[model_train[\"store_nbr\"]== s].copy()\n",
    "    model = modelbuilder(trainframe)\n",
    "    model_dict[s] = model"
   ]
  }
 ],
 "metadata": {
  "kernelspec": {
   "display_name": "Python 3 (ipykernel)",
   "language": "python",
   "name": "python3"
  },
  "language_info": {
   "codemirror_mode": {
    "name": "ipython",
    "version": 3
   },
   "file_extension": ".py",
   "mimetype": "text/x-python",
   "name": "python",
   "nbconvert_exporter": "python",
   "pygments_lexer": "ipython3",
   "version": "3.9.13"
  }
 },
 "nbformat": 4,
 "nbformat_minor": 5
}
